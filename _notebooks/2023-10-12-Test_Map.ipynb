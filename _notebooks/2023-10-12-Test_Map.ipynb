{
 "cells": [
  {
   "cell_type": "code",
   "execution_count": 8,
   "metadata": {
    "vscode": {
     "languageId": "html"
    }
   },
   "outputs": [
    {
     "ename": "IndentationError",
     "evalue": "unindent does not match any outer indentation level (<tokenize>, line 11)",
     "output_type": "error",
     "traceback": [
      "\u001b[0;36m  File \u001b[0;32m\"<tokenize>\"\u001b[0;36m, line \u001b[0;32m11\u001b[0m\n\u001b[0;31m    }\u001b[0m\n\u001b[0m    ^\u001b[0m\n\u001b[0;31mIndentationError\u001b[0m\u001b[0;31m:\u001b[0m unindent does not match any outer indentation level\n"
     ]
    }
   ],
   "source": [
    "<!DOCTYPE html>\n",
    "<html>\n",
    "<head>\n",
    "    <style>\n",
    "        #game-container {\n",
    "            position: relative;\n",
    "            width: 1200px;\n",
    "            height: 600px;\n",
    "            background-image: url('https://upload.wikimedia.org/wikipedia/commons/thumb/d/d7/Del_norte_wiki.png/640px-Del_norte_wiki.png');\n",
    "            background-size: cover;\n",
    "        }\n",
    "        #target {\n",
    "            position: absolute;\n",
    "            width: 20px;\n",
    "            height: 20px;\n",
    "            background-color: red;\n",
    "            border-radius: 50%;\n",
    "            cursor: pointer;\n",
    "        }\n",
    "        #score {\n",
    "            position: absolute;\n",
    "            top: 10px;\n",
    "            right: 10px;\n",
    "        }\n",
    "    </style>\n",
    "</head>\n",
    "<body>\n",
    "    <div id=\"game-container\">\n",
    "        <div id=\"target\"></div>\n",
    "    </div>\n",
    "    <p id=\"score\">Score: 0</p>\n",
    "    <script>\n",
    "        const gameContainer = document.getElementById(\"game-container\");\n",
    "        const target = document.getElementById(\"target\");\n",
    "        const scoreDisplay = document.getElementById(\"score\");\n",
    "        let score = 0;\n",
    "        let dotClicked = false;\n",
    "        // Define specific coordinates where the red dot can appear like class coordinates\n",
    "        const specificCoordinates = [\n",
    "            { x: 230, y: 420 },\n",
    "            { x: 359, y: 489 },\n",
    "            //add more coordinates once we get more pictures\n",
    "        ];\n",
    "        let lastRandomIndex = -1;\n",
    "        //Changes position of button and button won't appear same place twice (for the most part)\n",
    "        function moveTarget() {\n",
    "            let randomIndex;\n",
    "            do {\n",
    "                randomIndex = Math.floor(Math.random() * specificCoordinates.length);\n",
    "            } while (randomIndex === lastRandomIndex);\n",
    "            const { x, y } = specificCoordinates[randomIndex];\n",
    "            // Check if the specified coordinates are within the visible area\n",
    "            const maxX = gameContainer.clientWidth - target.clientWidth;\n",
    "            const maxY = gameContainer.clientHeight - target.clientHeight;\n",
    "            target.style.left = Math.min(x, maxX) + \"px\";\n",
    "            target.style.top = Math.min(y, maxY) + \"px\";\n",
    "            dotClicked = false; // Reset the dotClicked flag\n",
    "        }\n",
    "        target.addEventListener(\"click\", (event) => {\n",
    "            event.stopPropagation();\n",
    "            if (!dotClicked) {\n",
    "                const earnedPoints = 1; // You always get 1 point for clicking on the dot\n",
    "                score += earnedPoints;\n",
    "                scoreDisplay.textContent = `Score: ${score}`;\n",
    "                alert(`You got ${earnedPoints} point!`); // Display pop-up message\n",
    "                dotClicked = true; // Set the flag to true\n",
    "                moveTarget();\n",
    "            }\n",
    "        });\n",
    "        gameContainer.addEventListener(\"click\", (event) => {\n",
    "            event.stopPropagation();\n",
    "            if (!dotClicked) {\n",
    "                // You get 0 points if you click anywhere in the game container except the red dot\n",
    "                alert(`You got 0 points!`);\n",
    "                moveTarget();\n",
    "            }\n",
    "        });\n",
    "        moveTarget();\n",
    "    </script>\n",
    "</body>\n",
    "</html>"
   ]
  }
 ],
 "metadata": {
  "kernelspec": {
   "display_name": "Python 3",
   "language": "python",
   "name": "python3"
  },
  "language_info": {
   "codemirror_mode": {
    "name": "ipython",
    "version": 3
   },
   "file_extension": ".py",
   "mimetype": "text/x-python",
   "name": "python",
   "nbconvert_exporter": "python",
   "pygments_lexer": "ipython3",
   "version": "3.10.12"
  }
 },
 "nbformat": 4,
 "nbformat_minor": 2
}
