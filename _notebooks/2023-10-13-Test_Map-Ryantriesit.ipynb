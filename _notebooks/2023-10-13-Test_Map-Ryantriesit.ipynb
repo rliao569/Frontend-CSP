{
 "cells": [
  {
   "cell_type": "markdown",
   "metadata": {},
   "source": [
    "Ni hao ma i am try this"
   ]
  },
  {
   "cell_type": "code",
   "execution_count": 12,
   "metadata": {
    "vscode": {
     "languageId": "html"
    }
   },
   "outputs": [
    {
     "ename": "IndentationError",
     "evalue": "unindent does not match any outer indentation level (<tokenize>, line 9)",
     "output_type": "error",
     "traceback": [
      "\u001b[1;36m  File \u001b[1;32m<tokenize>:9\u001b[1;36m\u001b[0m\n\u001b[1;33m    }\u001b[0m\n\u001b[1;37m    ^\u001b[0m\n\u001b[1;31mIndentationError\u001b[0m\u001b[1;31m:\u001b[0m unindent does not match any outer indentation level\n"
     ]
    }
   ],
   "source": [
    "<!DOCTYPE html>\n",
    "<html>\n",
    "<head>\n",
    "    <style>\n",
    "        #game-container {\n",
    "            position: relative;\n",
    "            width: 400px;\n",
    "            height: 300px;\n",
    "        }\n",
    "        #target-image {\n",
    "            position: absolute;\n",
    "            width: 100%;\n",
    "            height: 100%;\n",
    "        }\n",
    "        #score {\n",
    "            position: absolute;\n",
    "            top: 10px;\n",
    "            right: 10px;\n",
    "        }\n",
    "    </style>\n",
    "</head>\n",
    "<body>\n",
    "    <div id=\"game-container\">\n",
    "        <img id=\"target-image\" src=\"https://upload.wikimedia.org/wikipedia/commons/thumb/d/d7/Del_norte_wiki.png/640px-Del_norte_wiki.png\" alt=\"Target Image\">\n",
    "    </div>\n",
    "    <p id=\"score\">Score: 0</p>\n",
    "\n",
    "    <script>\n",
    "        const gameContainer = document.getElementById(\"game-container\");\n",
    "        const targetImage = document.getElementById(\"target-image\");\n",
    "        const scoreDisplay = document.getElementById(\"score\");\n",
    "\n",
    "        let score = 0;\n",
    "\n",
    "        gameContainer.addEventListener(\"click\", (event) => {\n",
    "            const centerX = targetImage.width / 2;\n",
    "            const centerY = targetImage.height / 2;\n",
    "            const clickX = event.offsetX;\n",
    "            const clickY = event.offsetY;\n",
    "\n",
    "            const distance = Math.sqrt(Math.pow(centerX - clickX, 2) + Math.pow(centerY - clickY, 2));\n",
    "\n",
    "            // You can adjust the scoring mechanism as needed\n",
    "            if (distance < 50) {\n",
    "                score += 10;\n",
    "            } else if (distance < 100) {\n",
    "                score += 5;\n",
    "            } else {\n",
    "                score += 1;\n",
    "            }\n",
    "\n",
    "            scoreDisplay.textContent = `Score: ${score}`;\n",
    "        });\n",
    "    </script>\n",
    "</body>\n",
    "</html>\n",
    "\n",
    "<iframe src=\"game.html\" width=\"600\" height=\"600\"></iframe>\n"
   ]
  }
 ],
 "metadata": {
  "kernelspec": {
   "display_name": "Python 3",
   "language": "python",
   "name": "python3"
  },
  "language_info": {
   "codemirror_mode": {
    "name": "ipython",
    "version": 3
   },
   "file_extension": ".py",
   "mimetype": "text/x-python",
   "name": "python",
   "nbconvert_exporter": "python",
   "pygments_lexer": "ipython3",
   "version": "3.11.0"
  }
 },
 "nbformat": 4,
 "nbformat_minor": 2
}
