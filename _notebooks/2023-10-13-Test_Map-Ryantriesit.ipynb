{
 "cells": [
  {
   "cell_type": "code",
   "execution_count": 20,
   "metadata": {
    "vscode": {
     "languageId": "html"
    }
   },
   "outputs": [
    {
     "ename": "IndentationError",
     "evalue": "unindent does not match any outer indentation level (<tokenize>, line 9)",
     "output_type": "error",
     "traceback": [
      "\u001b[1;36m  File \u001b[1;32m<tokenize>:9\u001b[1;36m\u001b[0m\n\u001b[1;33m    }\u001b[0m\n\u001b[1;37m    ^\u001b[0m\n\u001b[1;31mIndentationError\u001b[0m\u001b[1;31m:\u001b[0m unindent does not match any outer indentation level\n"
     ]
    }
   ],
   "source": [
    "<!DOCTYPE html>\n",
    "<html>\n",
    "<head>\n",
    "    <style>\n",
    "        #game-container {\n",
    "            position: relative;\n",
    "            width: 240px;\n",
    "            height: 140px;\n",
    "        }\n",
    "        #target-image {\n",
    "            position: absolute;\n",
    "            width: 100%;\n",
    "            height: 100%;\n",
    "        }\n",
    "        #score {\n",
    "            position: absolute;\n",
    "            top: 10px;\n",
    "            right: 10px;\n",
    "        }\n",
    "    </style>\n",
    "</head>\n",
    "<body>\n",
    "    <div id=\"game-container\">\n",
    "        <img id=\"target-image\" src=\"https://upload.wikimedia.org/wikipedia/commons/thumb/d/d7/Del_norte_wiki.png/640px-Del_norte_wiki.png\" alt=\"Target Image\">\n",
    "    </div>\n",
    "    <p id=\"score\">Score: 0</p>\n",
    "\n",
    "    <script>\n",
    "        const gameContainer = document.getElementById(\"game-container\");\n",
    "        const targetImage = document.getElementById(\"target-image\");\n",
    "        const scoreDisplay = document.getElementById(\"score\");\n",
    "\n",
    "        let score = 0;\n",
    "\n",
    "        // Function to calculate and update the score\n",
    "        function updateScore(distance) {\n",
    "            let earnedPoints = 0;\n",
    "            if (distance < 50) {\n",
    "                earnedPoints = 10;\n",
    "            } else if (distance < 100) {\n",
    "                earnedPoints = 5;\n",
    "            } else {\n",
    "                earnedPoints = 1;\n",
    "            }\n",
    "            score += earnedPoints;\n",
    "            scoreDisplay.textContent = `Score: ${score}`;\n",
    "            return earnedPoints;\n",
    "        }\n",
    "\n",
    "        // Function to move the target to a random location\n",
    "        function moveTarget() {\n",
    "            const maxWidth = gameContainer.clientWidth - targetImage.clientWidth;\n",
    "            const maxHeight = gameContainer.clientHeight - targetImage.clientHeight;\n",
    "            const randomX = Math.random() * maxWidth;\n",
    "            const randomY = Math.random() * maxHeight;\n",
    "            targetImage.style.left = randomX + \"px\";\n",
    "            targetImage.style.top = randomY + \"px\";\n",
    "        }\n",
    "\n",
    "        gameContainer.addEventListener(\"click\", (event) => {\n",
    "            const centerX = targetImage.width / 2;\n",
    "            const centerY = targetImage.height / 2;\n",
    "            const clickX = event.offsetX;\n",
    "            const clickY = event.offsetY;\n",
    "\n",
    "            const distance = Math.sqrt(Math.pow(centerX - clickX, 2) + Math.pow(centerY - clickY, 2));\n",
    "\n",
    "            const earnedPoints = updateScore(distance);\n",
    "\n",
    "            // Display a pop-up message with the earned points\n",
    "            alert(`You gained ${earnedPoints} points!`);\n",
    "\n",
    "            // Move the target to a random location\n",
    "            moveTarget();\n",
    "        });\n",
    "\n",
    "        // Initial random placement of the target\n",
    "        moveTarget();\n",
    "    </script>\n",
    "</body>\n",
    "</html>\n"
   ]
  }
 ],
 "metadata": {
  "kernelspec": {
   "display_name": "Python 3",
   "language": "python",
   "name": "python3"
  },
  "language_info": {
   "codemirror_mode": {
    "name": "ipython",
    "version": 3
   },
   "file_extension": ".py",
   "mimetype": "text/x-python",
   "name": "python",
   "nbconvert_exporter": "python",
   "pygments_lexer": "ipython3",
   "version": "3.11.6"
  }
 },
 "nbformat": 4,
 "nbformat_minor": 2
}
